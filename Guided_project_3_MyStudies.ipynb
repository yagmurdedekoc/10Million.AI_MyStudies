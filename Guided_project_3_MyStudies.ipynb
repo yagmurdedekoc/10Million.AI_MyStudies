{
  "cells": [
    {
      "cell_type": "markdown",
      "metadata": {
        "id": "view-in-github",
        "colab_type": "text"
      },
      "source": [
        "<a href=\"https://colab.research.google.com/github/yagmurdedekoc/10Million.AI_MyStudies/blob/main/Guided_project_3_MyStudies.ipynb\" target=\"_parent\"><img src=\"https://colab.research.google.com/assets/colab-badge.svg\" alt=\"Open In Colab\"/></a>"
      ]
    },
    {
      "cell_type": "markdown",
      "id": "3ae823e3",
      "metadata": {
        "id": "3ae823e3",
        "papermill": {
          "duration": 0.016047,
          "end_time": "2023-06-24T20:11:35.866967",
          "exception": false,
          "start_time": "2023-06-24T20:11:35.850920",
          "status": "completed"
        },
        "tags": []
      },
      "source": [
        "# Chapter 3: Data cleaning exercise\n",
        "\n",
        "### Sales department performance analysis\n",
        "\n",
        "The HR department wants to analyze the performance of the employees in the sales department.\n",
        "\n",
        "### Data Reading\n",
        "Rachel wrote a text file employee_revenue.txt including all necessary information, but she needs help to extract the necessary information.\n",
        "\n",
        "Start by uploading the employee_revenue file to the working directory.\n",
        "\n",
        "📌 Use the .read() method to open the text file in read mode and assign it to the variable \"data\".\n"
      ]
    },
    {
      "cell_type": "code",
      "execution_count": 1,
      "id": "7de23df4",
      "metadata": {
        "execution": {
          "iopub.execute_input": "2023-06-24T20:11:35.896591Z",
          "iopub.status.busy": "2023-06-24T20:11:35.895856Z",
          "iopub.status.idle": "2023-06-24T20:11:35.915164Z",
          "shell.execute_reply": "2023-06-24T20:11:35.914094Z"
        },
        "id": "7de23df4",
        "papermill": {
          "duration": 0.037118,
          "end_time": "2023-06-24T20:11:35.917872",
          "exception": false,
          "start_time": "2023-06-24T20:11:35.880754",
          "status": "completed"
        },
        "tags": []
      },
      "outputs": [],
      "source": [
        "#Open the file in read mode\n",
        "\n",
        "file = open(\"/content/employee_revenue.txt\", \"r\")\n",
        "data = file.read()\n",
        "file.close()"
      ]
    },
    {
      "cell_type": "code",
      "execution_count": 2,
      "id": "3400094f",
      "metadata": {
        "execution": {
          "iopub.execute_input": "2023-06-24T20:11:35.948135Z",
          "iopub.status.busy": "2023-06-24T20:11:35.947202Z",
          "iopub.status.idle": "2023-06-24T20:11:35.953163Z",
          "shell.execute_reply": "2023-06-24T20:11:35.951984Z"
        },
        "id": "3400094f",
        "papermill": {
          "duration": 0.023841,
          "end_time": "2023-06-24T20:11:35.955642",
          "exception": false,
          "start_time": "2023-06-24T20:11:35.931801",
          "status": "completed"
        },
        "tags": [],
        "colab": {
          "base_uri": "https://localhost:8080/"
        },
        "outputId": "a60b4dfe-9155-4ff3-be87-ed1cb82f60fc"
      },
      "outputs": [
        {
          "output_type": "stream",
          "name": "stdout",
          "text": [
            "  Ben made 300 calls and generated 2400 dollars last Month with an 8$ average deal size.  \n",
            "omer called 10 times and Sold 2 courses generated 60 dollars last month with a 6$ average deal size.\n",
            "   KAren called 500 people and achieved success by GETting 24$ average deal size, got 12000 dollars revenue.     \n",
            "Celine with 70 calls, made 2275 dollars and 32$ average deal size IN the previous month.  \n",
            "     Sue called 100 people and earned 500 Dollars in REvenue and an AVERAGE DEAL SIZE of 5$ Last month.\n",
            "Bora called 100 people generated 770 dollars last month, his average deal size was 25$.  \n",
            "Rose made 600 phone calls and GENERATING 4000 dollars a past month 25$ average deal SIZE. \n",
            "Ellen made 800 calls and generated 6000 dollars a prior mONTH and reached 40$ the average deal size. \n",
            " bob made 200 phone calls, helped to make a proGress and generated 800 dollars LAST MONTH and gaining 15$ average deal size.\n",
            "Taylor, with 450 calls generated 1200 dollars in revenue pASt month, and the average deal size was 10$. \n",
            "  JuDE made 80 calls and earned 500 dollars for the company last month, her average deal size was 12$.\n"
          ]
        }
      ],
      "source": [
        "#Print the data\n",
        "\n",
        "print(data)"
      ]
    },
    {
      "cell_type": "markdown",
      "id": "e300c089",
      "metadata": {
        "id": "e300c089",
        "papermill": {
          "duration": 0.014082,
          "end_time": "2023-06-24T20:11:35.983727",
          "exception": false,
          "start_time": "2023-06-24T20:11:35.969645",
          "status": "completed"
        },
        "tags": []
      },
      "source": [
        "### Data Cleaning\n",
        "\n",
        "You can see that the data needs to be cleaned and information has to be extracted from these lines.\n",
        "\n",
        "To be able to clean the data, you need to separate the text into lines.\n",
        "\n",
        "📌 Use the .splitlines() method."
      ]
    },
    {
      "cell_type": "code",
      "execution_count": 3,
      "id": "779a9050",
      "metadata": {
        "execution": {
          "iopub.execute_input": "2023-06-24T20:11:36.013218Z",
          "iopub.status.busy": "2023-06-24T20:11:36.012800Z",
          "iopub.status.idle": "2023-06-24T20:11:36.018146Z",
          "shell.execute_reply": "2023-06-24T20:11:36.017090Z"
        },
        "id": "779a9050",
        "papermill": {
          "duration": 0.023813,
          "end_time": "2023-06-24T20:11:36.021328",
          "exception": false,
          "start_time": "2023-06-24T20:11:35.997515",
          "status": "completed"
        },
        "tags": [],
        "colab": {
          "base_uri": "https://localhost:8080/"
        },
        "outputId": "9b276771-560c-431e-8c61-4ebcbb82ba75"
      },
      "outputs": [
        {
          "output_type": "stream",
          "name": "stdout",
          "text": [
            "['  Ben made 300 calls and generated 2400 dollars last Month with an 8$ average deal size.  ', 'omer called 10 times and Sold 2 courses generated 60 dollars last month with a 6$ average deal size.', '   KAren called 500 people and achieved success by GETting 24$ average deal size, got 12000 dollars revenue.     ', 'Celine with 70 calls, made 2275 dollars and 32$ average deal size IN the previous month.  ', '     Sue called 100 people and earned 500 Dollars in REvenue and an AVERAGE DEAL SIZE of 5$ Last month.', 'Bora called 100 people generated 770 dollars last month, his average deal size was 25$.  ', 'Rose made 600 phone calls and GENERATING 4000 dollars a past month 25$ average deal SIZE. ', 'Ellen made 800 calls and generated 6000 dollars a prior mONTH and reached 40$ the average deal size. ', ' bob made 200 phone calls, helped to make a proGress and generated 800 dollars LAST MONTH and gaining 15$ average deal size.', 'Taylor, with 450 calls generated 1200 dollars in revenue pASt month, and the average deal size was 10$. ', '  JuDE made 80 calls and earned 500 dollars for the company last month, her average deal size was 12$.']\n"
          ]
        }
      ],
      "source": [
        "#Seperate the data into lines\n",
        "\n",
        "lines = data.splitlines()\n",
        "print(lines)"
      ]
    },
    {
      "cell_type": "markdown",
      "id": "76b45378",
      "metadata": {
        "id": "76b45378",
        "papermill": {
          "duration": 0.013737,
          "end_time": "2023-06-24T20:11:36.049045",
          "exception": false,
          "start_time": "2023-06-24T20:11:36.035308",
          "status": "completed"
        },
        "tags": []
      },
      "source": [
        "### Clean the data line by line\n",
        "\n",
        "Start to clean the data for the first line.\n",
        "\n",
        "📌 Use the .strip() method to remove the whitespaces from the edges of the string."
      ]
    },
    {
      "cell_type": "code",
      "execution_count": 4,
      "id": "7d1a6e56",
      "metadata": {
        "execution": {
          "iopub.execute_input": "2023-06-24T20:11:36.079203Z",
          "iopub.status.busy": "2023-06-24T20:11:36.078756Z",
          "iopub.status.idle": "2023-06-24T20:11:36.084389Z",
          "shell.execute_reply": "2023-06-24T20:11:36.083106Z"
        },
        "id": "7d1a6e56",
        "papermill": {
          "duration": 0.023923,
          "end_time": "2023-06-24T20:11:36.086922",
          "exception": false,
          "start_time": "2023-06-24T20:11:36.062999",
          "status": "completed"
        },
        "tags": [],
        "colab": {
          "base_uri": "https://localhost:8080/"
        },
        "outputId": "3cb4af82-e254-4c1c-b47d-73e48d5a2a88"
      },
      "outputs": [
        {
          "output_type": "stream",
          "name": "stdout",
          "text": [
            "  Ben made 300 calls and generated 2400 dollars last Month with an 8$ average deal size.  \n"
          ]
        }
      ],
      "source": [
        "#Take the first line\n",
        "\n",
        "string = lines[0]\n",
        "print(string)"
      ]
    },
    {
      "cell_type": "code",
      "execution_count": 5,
      "id": "ce00cf87",
      "metadata": {
        "execution": {
          "iopub.execute_input": "2023-06-24T20:11:36.116898Z",
          "iopub.status.busy": "2023-06-24T20:11:36.116419Z",
          "iopub.status.idle": "2023-06-24T20:11:36.122773Z",
          "shell.execute_reply": "2023-06-24T20:11:36.121317Z"
        },
        "id": "ce00cf87",
        "papermill": {
          "duration": 0.024276,
          "end_time": "2023-06-24T20:11:36.125167",
          "exception": false,
          "start_time": "2023-06-24T20:11:36.100891",
          "status": "completed"
        },
        "tags": [],
        "colab": {
          "base_uri": "https://localhost:8080/"
        },
        "outputId": "d8543c07-c574-43ca-ca7f-4ac47eac19ea"
      },
      "outputs": [
        {
          "output_type": "stream",
          "name": "stdout",
          "text": [
            "Ben made 300 calls and generated 2400 dollars last Month with an 8$ average deal size.\n"
          ]
        }
      ],
      "source": [
        "#Remove the whitespaces from the edges\n",
        "\n",
        "string = string.strip(\" \")\n",
        "print(string)"
      ]
    },
    {
      "cell_type": "markdown",
      "id": "04635ef4",
      "metadata": {
        "id": "04635ef4",
        "papermill": {
          "duration": 0.013919,
          "end_time": "2023-06-24T20:11:36.153255",
          "exception": false,
          "start_time": "2023-06-24T20:11:36.139336",
          "status": "completed"
        },
        "tags": []
      },
      "source": [
        "Next, you need to fix the capitalization issues.\n",
        "\n",
        "📌 Use the .lower() method to convert the text to lowercase.\n",
        "\n",
        "📌 Then use the .capitalize() method to capitalize the first letter."
      ]
    },
    {
      "cell_type": "code",
      "execution_count": 6,
      "id": "dadf22d0",
      "metadata": {
        "execution": {
          "iopub.execute_input": "2023-06-24T20:11:36.183349Z",
          "iopub.status.busy": "2023-06-24T20:11:36.182960Z",
          "iopub.status.idle": "2023-06-24T20:11:36.188200Z",
          "shell.execute_reply": "2023-06-24T20:11:36.187061Z"
        },
        "id": "dadf22d0",
        "papermill": {
          "duration": 0.023554,
          "end_time": "2023-06-24T20:11:36.190953",
          "exception": false,
          "start_time": "2023-06-24T20:11:36.167399",
          "status": "completed"
        },
        "tags": [],
        "colab": {
          "base_uri": "https://localhost:8080/"
        },
        "outputId": "294d2d7b-481c-41d6-f847-8d7ad31af386"
      },
      "outputs": [
        {
          "output_type": "stream",
          "name": "stdout",
          "text": [
            "ben made 300 calls and generated 2400 dollars last month with an 8$ average deal size.\n"
          ]
        }
      ],
      "source": [
        "#Convert the string to lowercase\n",
        "\n",
        "string = string.lower()\n",
        "\n",
        "print(string)\n"
      ]
    },
    {
      "cell_type": "code",
      "execution_count": 7,
      "id": "85012c6c",
      "metadata": {
        "execution": {
          "iopub.execute_input": "2023-06-24T20:11:36.221424Z",
          "iopub.status.busy": "2023-06-24T20:11:36.221008Z",
          "iopub.status.idle": "2023-06-24T20:11:36.229156Z",
          "shell.execute_reply": "2023-06-24T20:11:36.227986Z"
        },
        "id": "85012c6c",
        "papermill": {
          "duration": 0.026567,
          "end_time": "2023-06-24T20:11:36.231682",
          "exception": false,
          "start_time": "2023-06-24T20:11:36.205115",
          "status": "completed"
        },
        "tags": [],
        "colab": {
          "base_uri": "https://localhost:8080/",
          "height": 36
        },
        "outputId": "97d0f756-3ddc-4e51-89da-641baa6ecdc4"
      },
      "outputs": [
        {
          "output_type": "execute_result",
          "data": {
            "text/plain": [
              "'Ben made 300 calls and generated 2400 dollars last month with an 8$ average deal size.'"
            ],
            "application/vnd.google.colaboratory.intrinsic+json": {
              "type": "string"
            }
          },
          "metadata": {},
          "execution_count": 7
        }
      ],
      "source": [
        "#Capitalize the first character\n",
        "\n",
        "string = string.capitalize()\n",
        "string"
      ]
    },
    {
      "cell_type": "markdown",
      "id": "e9d0c9df",
      "metadata": {
        "id": "e9d0c9df",
        "papermill": {
          "duration": 0.013794,
          "end_time": "2023-06-24T20:11:36.259808",
          "exception": false,
          "start_time": "2023-06-24T20:11:36.246014",
          "status": "completed"
        },
        "tags": []
      },
      "source": [
        "### Information Extraction\n",
        "\n",
        "To extract the information, you need to split the sentence into words.\n",
        "\n",
        "📌 Use the .split() method.\n"
      ]
    },
    {
      "cell_type": "code",
      "execution_count": 8,
      "id": "d4526ddb",
      "metadata": {
        "execution": {
          "iopub.execute_input": "2023-06-24T20:11:36.290148Z",
          "iopub.status.busy": "2023-06-24T20:11:36.289708Z",
          "iopub.status.idle": "2023-06-24T20:11:36.297180Z",
          "shell.execute_reply": "2023-06-24T20:11:36.296038Z"
        },
        "id": "d4526ddb",
        "papermill": {
          "duration": 0.025328,
          "end_time": "2023-06-24T20:11:36.299353",
          "exception": false,
          "start_time": "2023-06-24T20:11:36.274025",
          "status": "completed"
        },
        "tags": [],
        "colab": {
          "base_uri": "https://localhost:8080/"
        },
        "outputId": "e7cf87cb-beca-4ff8-cb1c-2e8885c500e4"
      },
      "outputs": [
        {
          "output_type": "execute_result",
          "data": {
            "text/plain": [
              "['Ben',\n",
              " 'made',\n",
              " '300',\n",
              " 'calls',\n",
              " 'and',\n",
              " 'generated',\n",
              " '2400',\n",
              " 'dollars',\n",
              " 'last',\n",
              " 'month',\n",
              " 'with',\n",
              " 'an',\n",
              " '8$',\n",
              " 'average',\n",
              " 'deal',\n",
              " 'size.']"
            ]
          },
          "metadata": {},
          "execution_count": 8
        }
      ],
      "source": [
        "#Split the sentece into words\n",
        "\n",
        "split_string = string.split(\" \")\n",
        "split_string"
      ]
    },
    {
      "cell_type": "markdown",
      "id": "759c06d2",
      "metadata": {
        "id": "759c06d2",
        "papermill": {
          "duration": 0.014266,
          "end_time": "2023-06-24T20:11:36.327998",
          "exception": false,
          "start_time": "2023-06-24T20:11:36.313732",
          "status": "completed"
        },
        "tags": []
      },
      "source": [
        "You might noticed that the first element in the list is the name and the third element is the number of calls.\n",
        "\n",
        "📌 Use the indeces to extract the name and number of calls."
      ]
    },
    {
      "cell_type": "code",
      "execution_count": 9,
      "id": "8d0b3a99",
      "metadata": {
        "execution": {
          "iopub.execute_input": "2023-06-24T20:11:36.359101Z",
          "iopub.status.busy": "2023-06-24T20:11:36.358650Z",
          "iopub.status.idle": "2023-06-24T20:11:36.366040Z",
          "shell.execute_reply": "2023-06-24T20:11:36.364867Z"
        },
        "id": "8d0b3a99",
        "papermill": {
          "duration": 0.025968,
          "end_time": "2023-06-24T20:11:36.368540",
          "exception": false,
          "start_time": "2023-06-24T20:11:36.342572",
          "status": "completed"
        },
        "tags": [],
        "colab": {
          "base_uri": "https://localhost:8080/",
          "height": 36
        },
        "outputId": "5ae9ae9c-d72a-4cbc-d6e1-1bd63064446a"
      },
      "outputs": [
        {
          "output_type": "execute_result",
          "data": {
            "text/plain": [
              "'Ben'"
            ],
            "application/vnd.google.colaboratory.intrinsic+json": {
              "type": "string"
            }
          },
          "metadata": {},
          "execution_count": 9
        }
      ],
      "source": [
        "#Use the index 0 to access the name element\n",
        "\n",
        "name = split_string[0]\n",
        "\n",
        "name"
      ]
    },
    {
      "cell_type": "code",
      "execution_count": 10,
      "id": "0b18315e",
      "metadata": {
        "execution": {
          "iopub.execute_input": "2023-06-24T20:11:36.400313Z",
          "iopub.status.busy": "2023-06-24T20:11:36.399905Z",
          "iopub.status.idle": "2023-06-24T20:11:36.406458Z",
          "shell.execute_reply": "2023-06-24T20:11:36.405410Z"
        },
        "id": "0b18315e",
        "papermill": {
          "duration": 0.02521,
          "end_time": "2023-06-24T20:11:36.408921",
          "exception": false,
          "start_time": "2023-06-24T20:11:36.383711",
          "status": "completed"
        },
        "tags": [],
        "colab": {
          "base_uri": "https://localhost:8080/",
          "height": 36
        },
        "outputId": "65592d86-2da8-41cf-a972-d1fcc7052d86"
      },
      "outputs": [
        {
          "output_type": "execute_result",
          "data": {
            "text/plain": [
              "'300'"
            ],
            "application/vnd.google.colaboratory.intrinsic+json": {
              "type": "string"
            }
          },
          "metadata": {},
          "execution_count": 10
        }
      ],
      "source": [
        "#Use the index 2 to access the number of calls element\n",
        "\n",
        "call_number = split_string[2]\n",
        "\n",
        "call_number"
      ]
    },
    {
      "cell_type": "markdown",
      "id": "2457d416",
      "metadata": {
        "id": "2457d416",
        "papermill": {
          "duration": 0.014457,
          "end_time": "2023-06-24T20:11:36.438592",
          "exception": false,
          "start_time": "2023-06-24T20:11:36.424135",
          "status": "completed"
        },
        "tags": []
      },
      "source": [
        "So far so good!\n",
        "\n",
        "But as you can see the sentence order is not the same after the 7th element.\n",
        "\n",
        "To extract the average deal size you need to come up with a different approach. You can use the \"$\" sign to find the corresponding element.\n",
        "\n",
        "📌 Loop over the list to find the element that includes the \"$\" sign.\n",
        "\n",
        "📌 Then, use the .split() method to divide the string into the number and the $ sign."
      ]
    },
    {
      "cell_type": "code",
      "execution_count": 11,
      "id": "5ef2cb9c",
      "metadata": {
        "execution": {
          "iopub.execute_input": "2023-06-24T20:11:36.469889Z",
          "iopub.status.busy": "2023-06-24T20:11:36.469480Z",
          "iopub.status.idle": "2023-06-24T20:11:36.476772Z",
          "shell.execute_reply": "2023-06-24T20:11:36.475777Z"
        },
        "id": "5ef2cb9c",
        "papermill": {
          "duration": 0.026096,
          "end_time": "2023-06-24T20:11:36.479258",
          "exception": false,
          "start_time": "2023-06-24T20:11:36.453162",
          "status": "completed"
        },
        "tags": [],
        "colab": {
          "base_uri": "https://localhost:8080/",
          "height": 36
        },
        "outputId": "71dabc9d-5323-4382-f77d-4ecf868071f3"
      },
      "outputs": [
        {
          "output_type": "execute_result",
          "data": {
            "text/plain": [
              "'8'"
            ],
            "application/vnd.google.colaboratory.intrinsic+json": {
              "type": "string"
            }
          },
          "metadata": {},
          "execution_count": 11
        }
      ],
      "source": [
        "#Find the element with the \"$\" sign\n",
        "for i in split_string:\n",
        "  #Divide the number from it\n",
        "    if \"$\" in i:\n",
        "        average_deal_size = i.split(\"$\")[0]\n",
        "#Print the average deal size\n",
        "average_deal_size"
      ]
    },
    {
      "cell_type": "markdown",
      "id": "58d1375b",
      "metadata": {
        "id": "58d1375b",
        "papermill": {
          "duration": 0.014835,
          "end_time": "2023-06-24T20:11:36.509042",
          "exception": false,
          "start_time": "2023-06-24T20:11:36.494207",
          "status": "completed"
        },
        "tags": []
      },
      "source": [
        "Similarly, we can use the string \"dollars\" to extract the revenue, which is the element right before \"dollars\".\n",
        "\n",
        "📌 Use the .index() method to identify the index for the \"dollars\" element.\n",
        "\n",
        "📌 Then, use this index to specify and extract the revenue."
      ]
    },
    {
      "cell_type": "code",
      "execution_count": 12,
      "id": "7542aa76",
      "metadata": {
        "execution": {
          "iopub.execute_input": "2023-06-24T20:11:36.540555Z",
          "iopub.status.busy": "2023-06-24T20:11:36.540159Z",
          "iopub.status.idle": "2023-06-24T20:11:36.547006Z",
          "shell.execute_reply": "2023-06-24T20:11:36.545884Z"
        },
        "id": "7542aa76",
        "papermill": {
          "duration": 0.025693,
          "end_time": "2023-06-24T20:11:36.549413",
          "exception": false,
          "start_time": "2023-06-24T20:11:36.523720",
          "status": "completed"
        },
        "tags": [],
        "colab": {
          "base_uri": "https://localhost:8080/"
        },
        "outputId": "d84505a4-783c-4bb1-b4b9-35d5cc4cd0a9"
      },
      "outputs": [
        {
          "output_type": "execute_result",
          "data": {
            "text/plain": [
              "7"
            ]
          },
          "metadata": {},
          "execution_count": 12
        }
      ],
      "source": [
        "#Find the index of element \"dollars\"\n",
        "\n",
        "dollars_index = split_string.index(\"dollars\")\n",
        "\n",
        "dollars_index"
      ]
    },
    {
      "cell_type": "code",
      "execution_count": 13,
      "id": "c71b453e",
      "metadata": {
        "execution": {
          "iopub.execute_input": "2023-06-24T20:11:36.581487Z",
          "iopub.status.busy": "2023-06-24T20:11:36.581115Z",
          "iopub.status.idle": "2023-06-24T20:11:36.587874Z",
          "shell.execute_reply": "2023-06-24T20:11:36.586868Z"
        },
        "id": "c71b453e",
        "papermill": {
          "duration": 0.025614,
          "end_time": "2023-06-24T20:11:36.590106",
          "exception": false,
          "start_time": "2023-06-24T20:11:36.564492",
          "status": "completed"
        },
        "tags": [],
        "colab": {
          "base_uri": "https://localhost:8080/"
        },
        "outputId": "176ed152-5006-410b-88ac-8080266604fc"
      },
      "outputs": [
        {
          "output_type": "execute_result",
          "data": {
            "text/plain": [
              "6"
            ]
          },
          "metadata": {},
          "execution_count": 13
        }
      ],
      "source": [
        "#Subtract one from the index to identify the index of the revenue element\n",
        "\n",
        "revenue_index = dollars_index - 1\n",
        "\n",
        "revenue_index"
      ]
    },
    {
      "cell_type": "code",
      "execution_count": 14,
      "id": "373261a1",
      "metadata": {
        "execution": {
          "iopub.execute_input": "2023-06-24T20:11:36.622512Z",
          "iopub.status.busy": "2023-06-24T20:11:36.622134Z",
          "iopub.status.idle": "2023-06-24T20:11:36.628693Z",
          "shell.execute_reply": "2023-06-24T20:11:36.627598Z"
        },
        "id": "373261a1",
        "papermill": {
          "duration": 0.025777,
          "end_time": "2023-06-24T20:11:36.631156",
          "exception": false,
          "start_time": "2023-06-24T20:11:36.605379",
          "status": "completed"
        },
        "tags": [],
        "colab": {
          "base_uri": "https://localhost:8080/",
          "height": 36
        },
        "outputId": "5de3cb56-d81e-41ad-a91d-fdf7bab5f2e2"
      },
      "outputs": [
        {
          "output_type": "execute_result",
          "data": {
            "text/plain": [
              "'2400'"
            ],
            "application/vnd.google.colaboratory.intrinsic+json": {
              "type": "string"
            }
          },
          "metadata": {},
          "execution_count": 14
        }
      ],
      "source": [
        "#Extract the revenue\n",
        "\n",
        "revenue = split_string[revenue_index]\n",
        "\n",
        "revenue"
      ]
    },
    {
      "cell_type": "markdown",
      "id": "d3ed15de",
      "metadata": {
        "id": "d3ed15de",
        "papermill": {
          "duration": 0.014934,
          "end_time": "2023-06-24T20:11:36.661340",
          "exception": false,
          "start_time": "2023-06-24T20:11:36.646406",
          "status": "completed"
        },
        "tags": []
      },
      "source": [
        "Great! You extracted all necessary information.\n",
        "\n",
        "📌 Print the information and check the types of the data."
      ]
    },
    {
      "cell_type": "code",
      "execution_count": 15,
      "id": "51e0f46e",
      "metadata": {
        "execution": {
          "iopub.execute_input": "2023-06-24T20:11:36.694639Z",
          "iopub.status.busy": "2023-06-24T20:11:36.694237Z",
          "iopub.status.idle": "2023-06-24T20:11:36.700162Z",
          "shell.execute_reply": "2023-06-24T20:11:36.699059Z"
        },
        "id": "51e0f46e",
        "papermill": {
          "duration": 0.026494,
          "end_time": "2023-06-24T20:11:36.703154",
          "exception": false,
          "start_time": "2023-06-24T20:11:36.676660",
          "status": "completed"
        },
        "tags": [],
        "colab": {
          "base_uri": "https://localhost:8080/"
        },
        "outputId": "2e2017f9-4064-4417-9c29-310c144d9db9"
      },
      "outputs": [
        {
          "output_type": "stream",
          "name": "stdout",
          "text": [
            "Name Ben\n",
            "Number of calls 300\n",
            "Average deal size 8\n",
            "Revenue 2400\n"
          ]
        }
      ],
      "source": [
        "#Print out the extracted information\n",
        "\n",
        "print(\"Name\", name)\n",
        "print(\"Number of calls\", call_number)\n",
        "print(\"Average deal size\", average_deal_size)\n",
        "print(\"Revenue\", revenue)"
      ]
    },
    {
      "cell_type": "code",
      "execution_count": 16,
      "id": "16265bf2",
      "metadata": {
        "execution": {
          "iopub.execute_input": "2023-06-24T20:11:36.736249Z",
          "iopub.status.busy": "2023-06-24T20:11:36.735792Z",
          "iopub.status.idle": "2023-06-24T20:11:36.741766Z",
          "shell.execute_reply": "2023-06-24T20:11:36.740521Z"
        },
        "id": "16265bf2",
        "papermill": {
          "duration": 0.025543,
          "end_time": "2023-06-24T20:11:36.744499",
          "exception": false,
          "start_time": "2023-06-24T20:11:36.718956",
          "status": "completed"
        },
        "tags": [],
        "colab": {
          "base_uri": "https://localhost:8080/"
        },
        "outputId": "f3b61ee0-c7f4-4f3d-8e98-019c6907e854"
      },
      "outputs": [
        {
          "output_type": "stream",
          "name": "stdout",
          "text": [
            "Name type <class 'str'>\n",
            "Number of calls type <class 'str'>\n",
            "Average deal size <class 'str'>\n",
            "Revenue <class 'str'>\n"
          ]
        }
      ],
      "source": [
        "#Check the types\n",
        "\n",
        "print(\"Name type\", type(name))\n",
        "print(\"Number of calls type\", type(call_number))\n",
        "print(\"Average deal size\", type(average_deal_size))\n",
        "print(\"Revenue\", type(revenue))"
      ]
    },
    {
      "cell_type": "markdown",
      "id": "d10590e7",
      "metadata": {
        "id": "d10590e7",
        "papermill": {
          "duration": 0.015196,
          "end_time": "2023-06-24T20:11:36.775403",
          "exception": false,
          "start_time": "2023-06-24T20:11:36.760207",
          "status": "completed"
        },
        "tags": []
      },
      "source": [
        "As you can see, we have the type string for all the data, but the average deal size, number of calls, and the revenue need to be integers.\n",
        "\n",
        "📌 Convert the data using the int() function and check again."
      ]
    },
    {
      "cell_type": "code",
      "execution_count": 17,
      "id": "f9526b53",
      "metadata": {
        "execution": {
          "iopub.execute_input": "2023-06-24T20:11:36.810485Z",
          "iopub.status.busy": "2023-06-24T20:11:36.809744Z",
          "iopub.status.idle": "2023-06-24T20:11:36.815540Z",
          "shell.execute_reply": "2023-06-24T20:11:36.814386Z"
        },
        "id": "f9526b53",
        "papermill": {
          "duration": 0.025629,
          "end_time": "2023-06-24T20:11:36.817920",
          "exception": false,
          "start_time": "2023-06-24T20:11:36.792291",
          "status": "completed"
        },
        "tags": []
      },
      "outputs": [],
      "source": [
        "#Convert the datatypes of average deal size, number of calls, and revenue\n",
        "\n",
        "average_deal_size = int(average_deal_size)\n",
        "call_number = int(call_number)\n",
        "revenue = int(revenue)"
      ]
    },
    {
      "cell_type": "code",
      "execution_count": 18,
      "id": "93658f50",
      "metadata": {
        "execution": {
          "iopub.execute_input": "2023-06-24T20:11:36.851606Z",
          "iopub.status.busy": "2023-06-24T20:11:36.851141Z",
          "iopub.status.idle": "2023-06-24T20:11:36.858602Z",
          "shell.execute_reply": "2023-06-24T20:11:36.857024Z"
        },
        "id": "93658f50",
        "papermill": {
          "duration": 0.027304,
          "end_time": "2023-06-24T20:11:36.861299",
          "exception": false,
          "start_time": "2023-06-24T20:11:36.833995",
          "status": "completed"
        },
        "tags": [],
        "colab": {
          "base_uri": "https://localhost:8080/"
        },
        "outputId": "ddbc9180-7ad3-4ec6-f6b9-0dfd21ef9f5a"
      },
      "outputs": [
        {
          "output_type": "stream",
          "name": "stdout",
          "text": [
            "Name type <class 'str'>\n",
            "Number of calls type <class 'int'>\n",
            "Average deal size <class 'int'>\n",
            "Revenue <class 'int'>\n"
          ]
        }
      ],
      "source": [
        "#Print out the information again\n",
        "\n",
        "print(\"Name type\", type(name))\n",
        "print(\"Number of calls type\", type(call_number))\n",
        "print(\"Average deal size\", type(average_deal_size))\n",
        "print(\"Revenue\", type(revenue))"
      ]
    },
    {
      "cell_type": "markdown",
      "id": "1dbeedf9",
      "metadata": {
        "id": "1dbeedf9",
        "papermill": {
          "duration": 0.015239,
          "end_time": "2023-06-24T20:11:36.892355",
          "exception": false,
          "start_time": "2023-06-24T20:11:36.877116",
          "status": "completed"
        },
        "tags": []
      },
      "source": [
        "Now, you need to apply all the methods and functions to the list that contains the different strings of all employees.\n",
        "\n",
        "📌 Create an empty lists for storing names, number of calls, average deal sizes, and revenues.\n",
        "\n",
        "📌 Use a for loop to iterate through the list with the whole data.\n",
        "\n",
        "📌 Print out the necessary information."
      ]
    },
    {
      "cell_type": "code",
      "execution_count": 19,
      "id": "3c07cdaa",
      "metadata": {
        "execution": {
          "iopub.execute_input": "2023-06-24T20:11:36.925907Z",
          "iopub.status.busy": "2023-06-24T20:11:36.925088Z",
          "iopub.status.idle": "2023-06-24T20:11:36.930750Z",
          "shell.execute_reply": "2023-06-24T20:11:36.929644Z"
        },
        "id": "3c07cdaa",
        "papermill": {
          "duration": 0.024852,
          "end_time": "2023-06-24T20:11:36.933132",
          "exception": false,
          "start_time": "2023-06-24T20:11:36.908280",
          "status": "completed"
        },
        "tags": []
      },
      "outputs": [],
      "source": [
        "#Create empty lists for the names, number of calls, average deal sizes, revenues\n",
        "\n",
        "names = []\n",
        "call_numbers = []\n",
        "average_deal_sizes = []\n",
        "revenues = []"
      ]
    },
    {
      "cell_type": "code",
      "execution_count": 20,
      "id": "f8dd7313",
      "metadata": {
        "execution": {
          "iopub.execute_input": "2023-06-24T20:11:36.966668Z",
          "iopub.status.busy": "2023-06-24T20:11:36.965644Z",
          "iopub.status.idle": "2023-06-24T20:11:36.976505Z",
          "shell.execute_reply": "2023-06-24T20:11:36.975428Z"
        },
        "id": "f8dd7313",
        "papermill": {
          "duration": 0.030795,
          "end_time": "2023-06-24T20:11:36.979427",
          "exception": false,
          "start_time": "2023-06-24T20:11:36.948632",
          "status": "completed"
        },
        "tags": [],
        "colab": {
          "base_uri": "https://localhost:8080/"
        },
        "outputId": "266774a3-1140-455e-a32d-e968f2e41f8c"
      },
      "outputs": [
        {
          "output_type": "stream",
          "name": "stdout",
          "text": [
            "Name type ['Ben', 'Omer', 'Karen', 'Celine', 'Sue', 'Bora', 'Rose', 'Ellen', 'Bob', 'Taylor,', 'Jude']\n",
            "Number of calls type [300, 10, 500, 70, 100, 100, 600, 800, 200, 450, 80]\n",
            "Average deal size [8, 6, 24, 32, 5, 25, 25, 40, 15, 10, 12]\n",
            "Revenue [2400, 60, 12000, 2275, 500, 770, 4000, 6000, 800, 1200, 500]\n"
          ]
        }
      ],
      "source": [
        "#Loop over the whole data\n",
        "for employee in lines:\n",
        "    #Clean the string\n",
        "    employee = employee.strip(\" \")\n",
        "    employee = employee.lower()\n",
        "    employee = employee.capitalize()\n",
        "\n",
        "    #Split the clean string\n",
        "    split_employee = employee.split(\" \")\n",
        "\n",
        "    #Extract the name\n",
        "    name = split_employee[0]\n",
        "    call_number = split_employee[2]\n",
        "\n",
        "    #Extract the average deal size\n",
        "    for i in split_employee:\n",
        "        if \"$\" in i:\n",
        "            average_deal_size = i\n",
        "    average_deal_size = str(average_deal_size).split(\"$\")[0]\n",
        "\n",
        "    #Extract the revenue\n",
        "    dollars_index = split_employee.index(\"dollars\")\n",
        "    revenue_index = dollars_index - 1\n",
        "    revenue = split_employee[revenue_index]\n",
        "    #Convert to the correct data types\n",
        "    average_deal_size = int(average_deal_size)\n",
        "    call_number = int(call_number)\n",
        "    revenue = int(revenue)\n",
        "\n",
        "    #Append the information to the lists\n",
        "    names.append(name)\n",
        "    call_numbers.append(call_number)\n",
        "    average_deal_sizes.append(average_deal_size)\n",
        "    revenues.append(revenue)\n",
        "\n",
        "#Print out the information\n",
        "print(\"Name type\", names)\n",
        "print(\"Number of calls type\", call_numbers)\n",
        "print(\"Average deal size\", average_deal_sizes)\n",
        "print(\"Revenue\", revenues)"
      ]
    },
    {
      "cell_type": "markdown",
      "id": "205790f0",
      "metadata": {
        "id": "205790f0",
        "papermill": {
          "duration": 0.015553,
          "end_time": "2023-06-24T20:11:37.010714",
          "exception": false,
          "start_time": "2023-06-24T20:11:36.995161",
          "status": "completed"
        },
        "tags": []
      },
      "source": [
        "Finally, you can make the process even easier and reusable by defining functions.\n",
        "\n",
        "📌 Define the function \"clean_extract\".\n",
        "\n",
        "📌 Use the retured values by assigning them to variables."
      ]
    },
    {
      "cell_type": "code",
      "execution_count": 21,
      "id": "04dd7118",
      "metadata": {
        "execution": {
          "iopub.execute_input": "2023-06-24T20:11:37.044025Z",
          "iopub.status.busy": "2023-06-24T20:11:37.043550Z",
          "iopub.status.idle": "2023-06-24T20:11:37.049346Z",
          "shell.execute_reply": "2023-06-24T20:11:37.048197Z"
        },
        "id": "04dd7118",
        "papermill": {
          "duration": 0.025219,
          "end_time": "2023-06-24T20:11:37.051648",
          "exception": false,
          "start_time": "2023-06-24T20:11:37.026429",
          "status": "completed"
        },
        "tags": []
      },
      "outputs": [],
      "source": [
        "#Create empty lists again\n",
        "names =[]\n",
        "call_numbers = []\n",
        "average_deal_sizes = []\n",
        "revenues = []"
      ]
    },
    {
      "cell_type": "code",
      "execution_count": 22,
      "id": "1165b023",
      "metadata": {
        "execution": {
          "iopub.execute_input": "2023-06-24T20:11:37.085030Z",
          "iopub.status.busy": "2023-06-24T20:11:37.084586Z",
          "iopub.status.idle": "2023-06-24T20:11:37.094472Z",
          "shell.execute_reply": "2023-06-24T20:11:37.093031Z"
        },
        "id": "1165b023",
        "papermill": {
          "duration": 0.029415,
          "end_time": "2023-06-24T20:11:37.096888",
          "exception": false,
          "start_time": "2023-06-24T20:11:37.067473",
          "status": "completed"
        },
        "tags": []
      },
      "outputs": [],
      "source": [
        "#Define a function to clean and extract the data\n",
        "\n",
        "def clean_extract(lines):\n",
        "    for employee in lines:\n",
        "\n",
        "        employee = employee.strip(\" \")\n",
        "        employee = employee.lower()\n",
        "        employee = employee.capitalize()\n",
        "\n",
        "        split_employee = employee.split(\" \")\n",
        "\n",
        "        name = split_employee[0]\n",
        "        call_number = split_employee[2]\n",
        "\n",
        "        for i in split_employee:\n",
        "            if \"$\" in i:\n",
        "                average_deal_size = i\n",
        "                average_deal_size = average_deal_size.split(\"$\")[0]\n",
        "\n",
        "        dollars_index = split_employee.index(\"dollars\")\n",
        "        revenue_index = dollars_index - 1\n",
        "        revenue = split_employee[revenue_index]\n",
        "\n",
        "        average_deal_size = int(average_deal_size)\n",
        "        call_number = int(call_number)\n",
        "        revenue = int(revenue)\n",
        "\n",
        "        names.append(name)\n",
        "        call_numbers.append(call_number)\n",
        "        average_deal_sizes.append(average_deal_size)\n",
        "        revenues.append(revenue)\n",
        "\n",
        "    return names, call_numbers, average_deal_sizes, revenues"
      ]
    },
    {
      "cell_type": "code",
      "execution_count": 23,
      "id": "889c6d7c",
      "metadata": {
        "execution": {
          "iopub.execute_input": "2023-06-24T20:11:37.130542Z",
          "iopub.status.busy": "2023-06-24T20:11:37.130128Z",
          "iopub.status.idle": "2023-06-24T20:11:37.135376Z",
          "shell.execute_reply": "2023-06-24T20:11:37.134231Z"
        },
        "id": "889c6d7c",
        "papermill": {
          "duration": 0.024766,
          "end_time": "2023-06-24T20:11:37.137537",
          "exception": false,
          "start_time": "2023-06-24T20:11:37.112771",
          "status": "completed"
        },
        "tags": []
      },
      "outputs": [],
      "source": [
        "#Assign returned values to variables\n",
        "names, call_numbers, average_deal_sizes, revenues = clean_extract(lines)"
      ]
    },
    {
      "cell_type": "code",
      "execution_count": 24,
      "id": "f67f2e63",
      "metadata": {
        "execution": {
          "iopub.execute_input": "2023-06-24T20:11:37.172922Z",
          "iopub.status.busy": "2023-06-24T20:11:37.171689Z",
          "iopub.status.idle": "2023-06-24T20:11:37.179349Z",
          "shell.execute_reply": "2023-06-24T20:11:37.177797Z"
        },
        "id": "f67f2e63",
        "papermill": {
          "duration": 0.027847,
          "end_time": "2023-06-24T20:11:37.181776",
          "exception": false,
          "start_time": "2023-06-24T20:11:37.153929",
          "status": "completed"
        },
        "tags": [],
        "colab": {
          "base_uri": "https://localhost:8080/"
        },
        "outputId": "e833f353-669b-49ea-cd57-30e2e50f3ee2"
      },
      "outputs": [
        {
          "output_type": "stream",
          "name": "stdout",
          "text": [
            "Name type ['Ben', 'Omer', 'Karen', 'Celine', 'Sue', 'Bora', 'Rose', 'Ellen', 'Bob', 'Taylor,', 'Jude']\n",
            "Number of calls type [300, 10, 500, 70, 100, 100, 600, 800, 200, 450, 80]\n",
            "Average deal size [8, 6, 24, 32, 5, 25, 25, 40, 15, 10, 12]\n",
            "Revenue [2400, 60, 12000, 2275, 500, 770, 4000, 6000, 800, 1200, 500]\n"
          ]
        }
      ],
      "source": [
        "#Print out the information\n",
        "print(\"Name type\", names)\n",
        "print(\"Number of calls type\", call_numbers)\n",
        "print(\"Average deal size\", average_deal_sizes)\n",
        "print(\"Revenue\", revenues)"
      ]
    },
    {
      "cell_type": "markdown",
      "id": "6c5bccc3",
      "metadata": {
        "id": "6c5bccc3",
        "papermill": {
          "duration": 0.016223,
          "end_time": "2023-06-24T20:11:37.213945",
          "exception": false,
          "start_time": "2023-06-24T20:11:37.197722",
          "status": "completed"
        },
        "tags": []
      },
      "source": [
        "### Performance Analysis Report\n",
        "\n",
        "Now that you cleaned the string and extracted all the information using the function, you can create performance analysis report for the last month.\n",
        "\n",
        "📌 Assign IDs to each employee.\n",
        "\n",
        "📌 Create dictionaries.\n",
        "\n",
        "📌 Sort the dictionaries.\n",
        "\n",
        "\n"
      ]
    },
    {
      "cell_type": "markdown",
      "id": "7b2a244e",
      "metadata": {
        "id": "7b2a244e",
        "papermill": {
          "duration": 0.015736,
          "end_time": "2023-06-24T20:11:37.245921",
          "exception": false,
          "start_time": "2023-06-24T20:11:37.230185",
          "status": "completed"
        },
        "tags": []
      },
      "source": [
        "First, check how many employees there are and assign the IDs.\n",
        "\n",
        "📌 Use the len() and range() function.\n"
      ]
    },
    {
      "cell_type": "code",
      "execution_count": 25,
      "id": "007bbad5",
      "metadata": {
        "execution": {
          "iopub.execute_input": "2023-06-24T20:11:37.279651Z",
          "iopub.status.busy": "2023-06-24T20:11:37.279211Z",
          "iopub.status.idle": "2023-06-24T20:11:37.285586Z",
          "shell.execute_reply": "2023-06-24T20:11:37.284283Z"
        },
        "id": "007bbad5",
        "papermill": {
          "duration": 0.025994,
          "end_time": "2023-06-24T20:11:37.287887",
          "exception": false,
          "start_time": "2023-06-24T20:11:37.261893",
          "status": "completed"
        },
        "tags": [],
        "colab": {
          "base_uri": "https://localhost:8080/"
        },
        "outputId": "ddbbae55-0874-4f56-dce8-7f9d01332585"
      },
      "outputs": [
        {
          "output_type": "stream",
          "name": "stdout",
          "text": [
            "11\n"
          ]
        }
      ],
      "source": [
        "#Check the number of employees\n",
        "print(len(names))"
      ]
    },
    {
      "cell_type": "code",
      "execution_count": 26,
      "id": "6296dac2",
      "metadata": {
        "execution": {
          "iopub.execute_input": "2023-06-24T20:11:37.322318Z",
          "iopub.status.busy": "2023-06-24T20:11:37.321661Z",
          "iopub.status.idle": "2023-06-24T20:11:37.327630Z",
          "shell.execute_reply": "2023-06-24T20:11:37.326396Z"
        },
        "id": "6296dac2",
        "papermill": {
          "duration": 0.025389,
          "end_time": "2023-06-24T20:11:37.329753",
          "exception": false,
          "start_time": "2023-06-24T20:11:37.304364",
          "status": "completed"
        },
        "tags": [],
        "colab": {
          "base_uri": "https://localhost:8080/"
        },
        "outputId": "6fbba323-e49b-456c-a22a-f8f7513790f0"
      },
      "outputs": [
        {
          "output_type": "stream",
          "name": "stdout",
          "text": [
            "[0, 1, 2, 3, 4, 5, 6, 7, 8, 9, 10]\n"
          ]
        }
      ],
      "source": [
        "#Generate IDs\n",
        "IDs = list(range(0,11))\n",
        "print(IDs)"
      ]
    },
    {
      "cell_type": "code",
      "execution_count": 27,
      "id": "84981d74",
      "metadata": {
        "execution": {
          "iopub.execute_input": "2023-06-24T20:11:37.363875Z",
          "iopub.status.busy": "2023-06-24T20:11:37.363424Z",
          "iopub.status.idle": "2023-06-24T20:11:37.369960Z",
          "shell.execute_reply": "2023-06-24T20:11:37.368972Z"
        },
        "id": "84981d74",
        "papermill": {
          "duration": 0.026427,
          "end_time": "2023-06-24T20:11:37.372203",
          "exception": false,
          "start_time": "2023-06-24T20:11:37.345776",
          "status": "completed"
        },
        "tags": [],
        "colab": {
          "base_uri": "https://localhost:8080/"
        },
        "outputId": "39afa9bf-7c29-4bfc-acb8-31e116472519"
      },
      "outputs": [
        {
          "output_type": "execute_result",
          "data": {
            "text/plain": [
              "11"
            ]
          },
          "metadata": {},
          "execution_count": 27
        }
      ],
      "source": [
        "#Check the number of IDs\n",
        "len(IDs)"
      ]
    },
    {
      "cell_type": "markdown",
      "id": "97c64dbd",
      "metadata": {
        "id": "97c64dbd",
        "papermill": {
          "duration": 0.015911,
          "end_time": "2023-06-24T20:11:37.404943",
          "exception": false,
          "start_time": "2023-06-24T20:11:37.389032",
          "status": "completed"
        },
        "tags": []
      },
      "source": [
        "With the IDs ready, you need to assign the IDs to the employees.\n",
        "\n",
        "📌 Use the zip() function to pair the employee with the ID.\n",
        "\n",
        "📌 Convert the zip object into a dictionary."
      ]
    },
    {
      "cell_type": "code",
      "execution_count": 28,
      "id": "4e3ed0d7",
      "metadata": {
        "execution": {
          "iopub.execute_input": "2023-06-24T20:11:37.439706Z",
          "iopub.status.busy": "2023-06-24T20:11:37.439282Z",
          "iopub.status.idle": "2023-06-24T20:11:37.447171Z",
          "shell.execute_reply": "2023-06-24T20:11:37.446048Z"
        },
        "id": "4e3ed0d7",
        "papermill": {
          "duration": 0.028353,
          "end_time": "2023-06-24T20:11:37.449527",
          "exception": false,
          "start_time": "2023-06-24T20:11:37.421174",
          "status": "completed"
        },
        "tags": [],
        "colab": {
          "base_uri": "https://localhost:8080/"
        },
        "outputId": "7aabcaed-60d1-4cdc-bc09-f104d26ae084"
      },
      "outputs": [
        {
          "output_type": "execute_result",
          "data": {
            "text/plain": [
              "{0: 'Ben',\n",
              " 1: 'Omer',\n",
              " 2: 'Karen',\n",
              " 3: 'Celine',\n",
              " 4: 'Sue',\n",
              " 5: 'Bora',\n",
              " 6: 'Rose',\n",
              " 7: 'Ellen',\n",
              " 8: 'Bob',\n",
              " 9: 'Taylor,',\n",
              " 10: 'Jude'}"
            ]
          },
          "metadata": {},
          "execution_count": 28
        }
      ],
      "source": [
        "#Pair the names with the IDs in a dictionary\n",
        "dictionary1 = dict(zip(IDs, names))\n",
        "dictionary1"
      ]
    },
    {
      "cell_type": "markdown",
      "id": "3fa42976",
      "metadata": {
        "id": "3fa42976",
        "papermill": {
          "duration": 0.015808,
          "end_time": "2023-06-24T20:11:37.481574",
          "exception": false,
          "start_time": "2023-06-24T20:11:37.465766",
          "status": "completed"
        },
        "tags": []
      },
      "source": [
        "Similarly, create a dictionary for the  employees and their revenues."
      ]
    },
    {
      "cell_type": "code",
      "execution_count": 29,
      "id": "a5d744cb",
      "metadata": {
        "execution": {
          "iopub.execute_input": "2023-06-24T20:11:37.517035Z",
          "iopub.status.busy": "2023-06-24T20:11:37.515647Z",
          "iopub.status.idle": "2023-06-24T20:11:37.524492Z",
          "shell.execute_reply": "2023-06-24T20:11:37.523307Z"
        },
        "id": "a5d744cb",
        "papermill": {
          "duration": 0.029092,
          "end_time": "2023-06-24T20:11:37.527127",
          "exception": false,
          "start_time": "2023-06-24T20:11:37.498035",
          "status": "completed"
        },
        "tags": [],
        "colab": {
          "base_uri": "https://localhost:8080/"
        },
        "outputId": "ae32d424-7707-41aa-b86b-3349dab54e26"
      },
      "outputs": [
        {
          "output_type": "execute_result",
          "data": {
            "text/plain": [
              "{2400: 'Ben',\n",
              " 60: 'Omer',\n",
              " 12000: 'Karen',\n",
              " 2275: 'Celine',\n",
              " 500: 'Jude',\n",
              " 770: 'Bora',\n",
              " 4000: 'Rose',\n",
              " 6000: 'Ellen',\n",
              " 800: 'Bob',\n",
              " 1200: 'Taylor,'}"
            ]
          },
          "metadata": {},
          "execution_count": 29
        }
      ],
      "source": [
        "#Pair the names with the revenues\n",
        "dictionary2 = dict(zip(revenues, names))\n",
        "dictionary2"
      ]
    },
    {
      "cell_type": "markdown",
      "id": "8d7c5cff",
      "metadata": {
        "id": "8d7c5cff",
        "papermill": {
          "duration": 0.016088,
          "end_time": "2023-06-24T20:11:37.559764",
          "exception": false,
          "start_time": "2023-06-24T20:11:37.543676",
          "status": "completed"
        },
        "tags": []
      },
      "source": [
        "Finally, you need to find the employees with the best and lowest performance.\n",
        "\n",
        "📌 Sort the dictionary using the sorted() function in ascending and descending order.\n"
      ]
    },
    {
      "cell_type": "code",
      "execution_count": 30,
      "id": "95c5602f",
      "metadata": {
        "execution": {
          "iopub.execute_input": "2023-06-24T20:11:37.593531Z",
          "iopub.status.busy": "2023-06-24T20:11:37.593111Z",
          "iopub.status.idle": "2023-06-24T20:11:37.599538Z",
          "shell.execute_reply": "2023-06-24T20:11:37.598287Z"
        },
        "id": "95c5602f",
        "papermill": {
          "duration": 0.025995,
          "end_time": "2023-06-24T20:11:37.601896",
          "exception": false,
          "start_time": "2023-06-24T20:11:37.575901",
          "status": "completed"
        },
        "tags": [],
        "colab": {
          "base_uri": "https://localhost:8080/"
        },
        "outputId": "d5b7809f-ff64-4df7-f1bd-9a9c6d850348"
      },
      "outputs": [
        {
          "output_type": "stream",
          "name": "stdout",
          "text": [
            "Omer\n",
            "Jude\n",
            "Bora\n"
          ]
        }
      ],
      "source": [
        "#Find the lowest performing employees (ascending order)\n",
        "sorted_dictionary = sorted(dictionary2)[0:3]\n",
        "\n",
        "for i in sorted_dictionary:\n",
        "    print(dictionary2[i])"
      ]
    },
    {
      "cell_type": "code",
      "execution_count": 31,
      "id": "1adcee41",
      "metadata": {
        "execution": {
          "iopub.execute_input": "2023-06-24T20:11:37.637448Z",
          "iopub.status.busy": "2023-06-24T20:11:37.637041Z",
          "iopub.status.idle": "2023-06-24T20:11:37.642617Z",
          "shell.execute_reply": "2023-06-24T20:11:37.641579Z"
        },
        "id": "1adcee41",
        "papermill": {
          "duration": 0.026225,
          "end_time": "2023-06-24T20:11:37.645143",
          "exception": false,
          "start_time": "2023-06-24T20:11:37.618918",
          "status": "completed"
        },
        "tags": [],
        "colab": {
          "base_uri": "https://localhost:8080/"
        },
        "outputId": "7532f2ac-b6d0-4b76-f529-2f1d8d79831a"
      },
      "outputs": [
        {
          "output_type": "stream",
          "name": "stdout",
          "text": [
            "Karen\n",
            "Ellen\n",
            "Rose\n"
          ]
        }
      ],
      "source": [
        "#Find the best performing employees (descending order)\n",
        "sorted_dictionary = sorted(dictionary2, reverse = True)[0:3]\n",
        "\n",
        "for i in sorted_dictionary:\n",
        "    print(dictionary2[i])"
      ]
    }
  ],
  "metadata": {
    "kernelspec": {
      "display_name": "Python 3",
      "language": "python",
      "name": "python3"
    },
    "language_info": {
      "codemirror_mode": {
        "name": "ipython",
        "version": 3
      },
      "file_extension": ".py",
      "mimetype": "text/x-python",
      "name": "python",
      "nbconvert_exporter": "python",
      "pygments_lexer": "ipython3",
      "version": "3.10.10"
    },
    "papermill": {
      "default_parameters": {},
      "duration": 15.35708,
      "end_time": "2023-06-24T20:11:38.584497",
      "environment_variables": {},
      "exception": null,
      "input_path": "__notebook__.ipynb",
      "output_path": "__notebook__.ipynb",
      "parameters": {},
      "start_time": "2023-06-24T20:11:23.227417",
      "version": "2.4.0"
    },
    "colab": {
      "provenance": [],
      "include_colab_link": true
    }
  },
  "nbformat": 4,
  "nbformat_minor": 5
}